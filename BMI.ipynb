{
 "cells": [
  {
   "cell_type": "markdown",
   "metadata": {},
   "source": [
    "PROGRAM BMI-INDONESIA\n",
    "PERHATIAN :\n",
    "-Masukan Tinggi Badan Dengan Meter Conto (2.4)\n",
    "-Masukan Berat Badan Dengan Kilogram Conto (54)"
   ]
  },
  {
   "cell_type": "code",
   "execution_count": 2,
   "metadata": {},
   "outputs": [
    {
     "name": "stdout",
     "output_type": "stream",
     "text": [
      "Masukan Tinggi : 1.9\n",
      "Masukan Berat : 70\n",
      "Perhitungan :  19.390581717451525  Berat Badan Anda Normal\n"
     ]
    }
   ],
   "source": [
    "t = float(input(\"Masukan Tinggi : \"))\n",
    "b = int(input(\"Masukan Berat : \"))\n",
    "rumus = b/t**2\n",
    "if rumus <= 18.5:\n",
    "    print (\"Perhitungan : \",rumus,\" Berat Badan Anda Kurang\")\n",
    "elif rumus > 18.5 and rumus < 25:\n",
    "    print (\"Perhitungan : \",rumus,\" Berat Badan Anda Normal\")\n",
    "elif rumus > 25 and rumus < 30:\n",
    "    print (\"Perhitungan : \",rumus,\" Berat Badan Anda Berlebihan\")\n",
    "else:\n",
    "    print (\"Perhitungan : \",rumus,\" Berat Badan Anda Obesitas!\")"
   ]
  },
  {
   "cell_type": "code",
   "execution_count": null,
   "metadata": {},
   "outputs": [],
   "source": []
  }
 ],
 "metadata": {
  "kernelspec": {
   "display_name": "Python 3",
   "language": "python",
   "name": "python3"
  },
  "language_info": {
   "codemirror_mode": {
    "name": "ipython",
    "version": 3
   },
   "file_extension": ".py",
   "mimetype": "text/x-python",
   "name": "python",
   "nbconvert_exporter": "python",
   "pygments_lexer": "ipython3",
   "version": "3.7.3"
  }
 },
 "nbformat": 4,
 "nbformat_minor": 2
}
